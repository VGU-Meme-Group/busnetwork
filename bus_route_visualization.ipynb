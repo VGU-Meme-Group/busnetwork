{
 "cells": [
  {
   "cell_type": "code",
   "execution_count": 10,
   "metadata": {},
   "outputs": [
    {
     "name": "stdout",
     "output_type": "stream",
     "text": [
      "Collecting folium\n",
      "  Using cached folium-0.14.0-py2.py3-none-any.whl (102 kB)\n",
      "Collecting branca>=0.6.0 (from folium)\n",
      "  Using cached branca-0.6.0-py3-none-any.whl (24 kB)\n",
      "Requirement already satisfied: jinja2>=2.9 in c:\\users\\asus\\appdata\\local\\programs\\python\\python310\\lib\\site-packages (from folium) (3.1.2)\n",
      "Requirement already satisfied: numpy in c:\\users\\asus\\appdata\\local\\programs\\python\\python310\\lib\\site-packages (from folium) (1.24.2)\n",
      "Requirement already satisfied: requests in c:\\users\\asus\\appdata\\local\\programs\\python\\python310\\lib\\site-packages (from folium) (2.30.0)\n",
      "Requirement already satisfied: MarkupSafe>=2.0 in c:\\users\\asus\\appdata\\local\\programs\\python\\python310\\lib\\site-packages (from jinja2>=2.9->folium) (2.1.2)\n",
      "Requirement already satisfied: charset-normalizer<4,>=2 in c:\\users\\asus\\appdata\\local\\programs\\python\\python310\\lib\\site-packages (from requests->folium) (3.1.0)\n",
      "Requirement already satisfied: idna<4,>=2.5 in c:\\users\\asus\\appdata\\local\\programs\\python\\python310\\lib\\site-packages (from requests->folium) (3.4)\n",
      "Requirement already satisfied: urllib3<3,>=1.21.1 in c:\\users\\asus\\appdata\\local\\programs\\python\\python310\\lib\\site-packages (from requests->folium) (2.0.2)\n",
      "Requirement already satisfied: certifi>=2017.4.17 in c:\\users\\asus\\appdata\\local\\programs\\python\\python310\\lib\\site-packages (from requests->folium) (2022.12.7)\n",
      "Installing collected packages: branca, folium\n",
      "Successfully installed branca-0.6.0 folium-0.14.0\n",
      "Note: you may need to restart the kernel to use updated packages.\n"
     ]
    }
   ],
   "source": [
    "# install folium package\n",
    "pip install folium\n"
   ]
  },
  {
   "cell_type": "code",
   "execution_count": 79,
   "metadata": {},
   "outputs": [],
   "source": [
    "\n",
    "import json\n",
    "\n",
    "# read the json file\n",
    "sample = open(\"./data/bus_data_sample.json\", encoding='utf-8')\n",
    "# parse/convert the list of JSON objects into Python list of dictionaries\n",
    "bus_route = json.load(sample)\n"
   ]
  },
  {
   "cell_type": "code",
   "execution_count": 77,
   "metadata": {},
   "outputs": [],
   "source": [
    "import folium\n",
    "\n",
    "# create a map object with the center point\n",
    "m = folium.Map(location=[10, 106], zoom_start=4)\n",
    "\n",
    "# iterate through each JSON object in the list\n",
    "for bus_location in bus_route:\n",
    "    # get the coordinates of bus location (in REVERSE ORDER in the data file)\n",
    "    location = bus_location['Loc'][1], bus_location['Loc'][0]\n",
    "    # create and add a Marker of each bus_location to the map\n",
    "    folium.Marker(location=location,\n",
    "                  popup=f'Vehicle Number: {bus_location[\"VehicleNumber\"]}\\nLocation: {location}', icon=folium.Icon(color='red', icon='bus', prefix='fa')).add_to(m)\n",
    "\n",
    "# save the map object into an HTML file\n",
    "m.save('bus_route.html')\n"
   ]
  }
 ],
 "metadata": {
  "kernelspec": {
   "display_name": "Python 3 (ipykernel)",
   "language": "python",
   "name": "python3"
  },
  "language_info": {
   "codemirror_mode": {
    "name": "ipython",
    "version": 3
   },
   "file_extension": ".py",
   "mimetype": "text/x-python",
   "name": "python",
   "nbconvert_exporter": "python",
   "pygments_lexer": "ipython3",
   "version": "3.10.7"
  }
 },
 "nbformat": 4,
 "nbformat_minor": 4
}
