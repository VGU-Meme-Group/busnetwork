{
 "cells": [
  {
   "attachments": {},
   "cell_type": "markdown",
   "metadata": {},
   "source": [
    "# extract data"
   ]
  },
  {
   "cell_type": "code",
   "execution_count": 2,
   "metadata": {},
   "outputs": [
    {
     "name": "stderr",
     "output_type": "stream",
     "text": [
      "INFO:root:Reading \"routes.txt\".\n"
     ]
    },
    {
     "data": {
      "text/html": [
       "<div>\n",
       "<style scoped>\n",
       "    .dataframe tbody tr th:only-of-type {\n",
       "        vertical-align: middle;\n",
       "    }\n",
       "\n",
       "    .dataframe tbody tr th {\n",
       "        vertical-align: top;\n",
       "    }\n",
       "\n",
       "    .dataframe thead th {\n",
       "        text-align: right;\n",
       "    }\n",
       "</style>\n",
       "<table border=\"1\" class=\"dataframe\">\n",
       "  <thead>\n",
       "    <tr style=\"text-align: right;\">\n",
       "      <th></th>\n",
       "      <th>route_id</th>\n",
       "      <th>agency_id</th>\n",
       "      <th>route_short_name</th>\n",
       "      <th>route_long_name</th>\n",
       "      <th>route_desc</th>\n",
       "      <th>route_type</th>\n",
       "      <th>route_url</th>\n",
       "      <th>route_color</th>\n",
       "      <th>route_text_color</th>\n",
       "    </tr>\n",
       "  </thead>\n",
       "  <tbody>\n",
       "    <tr>\n",
       "      <th>0</th>\n",
       "      <td>27757</td>\n",
       "      <td>NaN</td>\n",
       "      <td>1</td>\n",
       "      <td>SO.MIAMI HTS-PERRINE VIA SOUTHLAND</td>\n",
       "      <td>NaN</td>\n",
       "      <td>3</td>\n",
       "      <td>NaN</td>\n",
       "      <td>FF00FF</td>\n",
       "      <td>FFFFFF</td>\n",
       "    </tr>\n",
       "    <tr>\n",
       "      <th>1</th>\n",
       "      <td>27758</td>\n",
       "      <td>NaN</td>\n",
       "      <td>2</td>\n",
       "      <td>DOWNTOWN-163 ST MALL VIA NW 2 AVE</td>\n",
       "      <td>NaN</td>\n",
       "      <td>3</td>\n",
       "      <td>NaN</td>\n",
       "      <td>008000</td>\n",
       "      <td>FFFFFF</td>\n",
       "    </tr>\n",
       "    <tr>\n",
       "      <th>2</th>\n",
       "      <td>27759</td>\n",
       "      <td>NaN</td>\n",
       "      <td>3</td>\n",
       "      <td>AVENTURA-DOWNTOWN VIA BISC.BLVD.</td>\n",
       "      <td>NaN</td>\n",
       "      <td>3</td>\n",
       "      <td>NaN</td>\n",
       "      <td>800080</td>\n",
       "      <td>FFFFFF</td>\n",
       "    </tr>\n",
       "    <tr>\n",
       "      <th>3</th>\n",
       "      <td>27760</td>\n",
       "      <td>NaN</td>\n",
       "      <td>7</td>\n",
       "      <td>DOWNTOWN-DOLPH MALL/AIRPORT VIA 7ST</td>\n",
       "      <td>NaN</td>\n",
       "      <td>3</td>\n",
       "      <td>NaN</td>\n",
       "      <td>FF0000</td>\n",
       "      <td>FFFFFF</td>\n",
       "    </tr>\n",
       "    <tr>\n",
       "      <th>4</th>\n",
       "      <td>27761</td>\n",
       "      <td>NaN</td>\n",
       "      <td>8</td>\n",
       "      <td>BRICKELL-107AV/WSTCHSTR VIA SW 8 ST</td>\n",
       "      <td>NaN</td>\n",
       "      <td>3</td>\n",
       "      <td>NaN</td>\n",
       "      <td>800000</td>\n",
       "      <td>FFFFFF</td>\n",
       "    </tr>\n",
       "    <tr>\n",
       "      <th>5</th>\n",
       "      <td>27762</td>\n",
       "      <td>NaN</td>\n",
       "      <td>9</td>\n",
       "      <td>AVENTURA-DOWNTOWN VIA NE 6 &amp; 2 AVE</td>\n",
       "      <td>NaN</td>\n",
       "      <td>3</td>\n",
       "      <td>NaN</td>\n",
       "      <td>00FF00</td>\n",
       "      <td>FFFFFF</td>\n",
       "    </tr>\n",
       "    <tr>\n",
       "      <th>6</th>\n",
       "      <td>27763</td>\n",
       "      <td>NaN</td>\n",
       "      <td>10</td>\n",
       "      <td>SKYLAKE - OMNI - VIA NE12 &amp; 2AVE</td>\n",
       "      <td>NaN</td>\n",
       "      <td>3</td>\n",
       "      <td>NaN</td>\n",
       "      <td>800080</td>\n",
       "      <td>FFFFFF</td>\n",
       "    </tr>\n",
       "    <tr>\n",
       "      <th>7</th>\n",
       "      <td>27764</td>\n",
       "      <td>NaN</td>\n",
       "      <td>11</td>\n",
       "      <td>FIU-DOWNTOWN VIA FLAGLER ST</td>\n",
       "      <td>NaN</td>\n",
       "      <td>3</td>\n",
       "      <td>NaN</td>\n",
       "      <td>008000</td>\n",
       "      <td>FFFFFF</td>\n",
       "    </tr>\n",
       "  </tbody>\n",
       "</table>\n",
       "</div>"
      ],
      "text/plain": [
       "  route_id  agency_id route_short_name                      route_long_name  \\\n",
       "0    27757        NaN                1   SO.MIAMI HTS-PERRINE VIA SOUTHLAND   \n",
       "1    27758        NaN                2    DOWNTOWN-163 ST MALL VIA NW 2 AVE   \n",
       "2    27759        NaN                3     AVENTURA-DOWNTOWN VIA BISC.BLVD.   \n",
       "3    27760        NaN                7  DOWNTOWN-DOLPH MALL/AIRPORT VIA 7ST   \n",
       "4    27761        NaN                8  BRICKELL-107AV/WSTCHSTR VIA SW 8 ST   \n",
       "5    27762        NaN                9   AVENTURA-DOWNTOWN VIA NE 6 & 2 AVE   \n",
       "6    27763        NaN               10     SKYLAKE - OMNI - VIA NE12 & 2AVE   \n",
       "7    27764        NaN               11          FIU-DOWNTOWN VIA FLAGLER ST   \n",
       "\n",
       "   route_desc  route_type  route_url route_color route_text_color  \n",
       "0         NaN           3        NaN      FF00FF           FFFFFF  \n",
       "1         NaN           3        NaN      008000           FFFFFF  \n",
       "2         NaN           3        NaN      800080           FFFFFF  \n",
       "3         NaN           3        NaN      FF0000           FFFFFF  \n",
       "4         NaN           3        NaN      800000           FFFFFF  \n",
       "5         NaN           3        NaN      00FF00           FFFFFF  \n",
       "6         NaN           3        NaN      800080           FFFFFF  \n",
       "7         NaN           3        NaN      008000           FFFFFF  "
      ]
     },
     "execution_count": 2,
     "metadata": {},
     "output_type": "execute_result"
    }
   ],
   "source": [
    "from gtfs_functions import Feed, map_gdf\n",
    "\n",
    "gtfs_path = 'data/miami_gtfs.zip'\n",
    "feed = Feed(gtfs_path, time_windows=[0, 6, 10, 12, 16, 19, 24])\n",
    "routes = feed.routes\n",
    "routes.head(8)"
   ]
  },
  {
   "cell_type": "code",
   "execution_count": null,
   "metadata": {},
   "outputs": [],
   "source": [
    "stops = feed.stops\n",
    "stops.head(2)"
   ]
  },
  {
   "cell_type": "code",
   "execution_count": null,
   "metadata": {},
   "outputs": [],
   "source": [
    "stop_times = feed.stop_times\n",
    "stop_times.head(2)"
   ]
  },
  {
   "cell_type": "code",
   "execution_count": null,
   "metadata": {},
   "outputs": [],
   "source": [
    "trips = feed.trips\n",
    "trips.head(2)"
   ]
  },
  {
   "cell_type": "code",
   "execution_count": null,
   "metadata": {},
   "outputs": [],
   "source": [
    "shapes = feed.shapes\n",
    "shapes.head(2)"
   ]
  },
  {
   "cell_type": "code",
   "execution_count": 5,
   "metadata": {},
   "outputs": [
    {
     "data": {
      "text/html": [
       "<div>\n",
       "<style scoped>\n",
       "    .dataframe tbody tr th:only-of-type {\n",
       "        vertical-align: middle;\n",
       "    }\n",
       "\n",
       "    .dataframe tbody tr th {\n",
       "        vertical-align: top;\n",
       "    }\n",
       "\n",
       "    .dataframe thead th {\n",
       "        text-align: right;\n",
       "    }\n",
       "</style>\n",
       "<table border=\"1\" class=\"dataframe\">\n",
       "  <thead>\n",
       "    <tr style=\"text-align: right;\">\n",
       "      <th></th>\n",
       "      <th>shape_id</th>\n",
       "      <th>route_id</th>\n",
       "      <th>route_name</th>\n",
       "      <th>direction_id</th>\n",
       "      <th>stop_sequence</th>\n",
       "      <th>segment_name</th>\n",
       "      <th>start_stop_name</th>\n",
       "      <th>end_stop_name</th>\n",
       "      <th>segment_id</th>\n",
       "      <th>start_stop_id</th>\n",
       "      <th>end_stop_id</th>\n",
       "      <th>distance_m</th>\n",
       "      <th>geometry</th>\n",
       "    </tr>\n",
       "  </thead>\n",
       "  <tbody>\n",
       "    <tr>\n",
       "      <th>0</th>\n",
       "      <td>139476</td>\n",
       "      <td>16886</td>\n",
       "      <td>MIABRK City of Miami Trolley (Brickell)</td>\n",
       "      <td>0</td>\n",
       "      <td>1</td>\n",
       "      <td>MERCY HOSPITAL - S MIAMI AV &amp; MERCY WY</td>\n",
       "      <td>MERCY HOSPITAL</td>\n",
       "      <td>S MIAMI AV &amp; MERCY WY</td>\n",
       "      <td>120 - 6895</td>\n",
       "      <td>120</td>\n",
       "      <td>6895</td>\n",
       "      <td>488.933585</td>\n",
       "      <td>LINESTRING (-80.21513 25.74011, -80.21513 25.7...</td>\n",
       "    </tr>\n",
       "    <tr>\n",
       "      <th>1</th>\n",
       "      <td>139476</td>\n",
       "      <td>16886</td>\n",
       "      <td>MIABRK City of Miami Trolley (Brickell)</td>\n",
       "      <td>0</td>\n",
       "      <td>2</td>\n",
       "      <td>S MIAMI AV &amp; MERCY WY - S MIAMI AV &amp; S. 3601 BLK</td>\n",
       "      <td>S MIAMI AV &amp; MERCY WY</td>\n",
       "      <td>S MIAMI AV &amp; S. 3601 BLK</td>\n",
       "      <td>6895 - 6896</td>\n",
       "      <td>6895</td>\n",
       "      <td>6896</td>\n",
       "      <td>137.651662</td>\n",
       "      <td>LINESTRING (-80.21652 25.74316, -80.21571 25.7...</td>\n",
       "    </tr>\n",
       "  </tbody>\n",
       "</table>\n",
       "</div>"
      ],
      "text/plain": [
       "  shape_id route_id                               route_name  direction_id  \\\n",
       "0   139476    16886  MIABRK City of Miami Trolley (Brickell)             0   \n",
       "1   139476    16886  MIABRK City of Miami Trolley (Brickell)             0   \n",
       "\n",
       "   stop_sequence                                      segment_name  \\\n",
       "0              1            MERCY HOSPITAL - S MIAMI AV & MERCY WY   \n",
       "1              2  S MIAMI AV & MERCY WY - S MIAMI AV & S. 3601 BLK   \n",
       "\n",
       "         start_stop_name             end_stop_name   segment_id start_stop_id  \\\n",
       "0         MERCY HOSPITAL     S MIAMI AV & MERCY WY   120 - 6895           120   \n",
       "1  S MIAMI AV & MERCY WY  S MIAMI AV & S. 3601 BLK  6895 - 6896          6895   \n",
       "\n",
       "  end_stop_id  distance_m                                           geometry  \n",
       "0        6895  488.933585  LINESTRING (-80.21513 25.74011, -80.21513 25.7...  \n",
       "1        6896  137.651662  LINESTRING (-80.21652 25.74316, -80.21571 25.7...  "
      ]
     },
     "execution_count": 5,
     "metadata": {},
     "output_type": "execute_result"
    }
   ],
   "source": [
    "segments_gdf = feed.segments\n",
    "segments_gdf.head(2)"
   ]
  },
  {
   "cell_type": "code",
   "execution_count": 7,
   "metadata": {},
   "outputs": [
    {
     "name": "stderr",
     "output_type": "stream",
     "text": [
      "INFO:root:fixing outliers\n",
      "INFO:root:aggregating speed by segment and window\n"
     ]
    },
    {
     "ename": "AttributeError",
     "evalue": "'DataFrame' object has no attribute 'append'",
     "output_type": "error",
     "traceback": [
      "\u001b[1;31m---------------------------------------------------------------------------\u001b[0m",
      "\u001b[1;31mAttributeError\u001b[0m                            Traceback (most recent call last)",
      "\u001b[1;32m~\\AppData\\Local\\Temp\\ipykernel_9236\\2681358111.py\u001b[0m in \u001b[0;36m?\u001b[1;34m()\u001b[0m\n\u001b[0;32m      1\u001b[0m \u001b[1;31m# Cutoffs to make get hourly values\u001b[0m\u001b[1;33m\u001b[0m\u001b[1;33m\u001b[0m\u001b[0m\n\u001b[1;32m----> 2\u001b[1;33m \u001b[0mspeeds\u001b[0m \u001b[1;33m=\u001b[0m \u001b[0mfeed\u001b[0m\u001b[1;33m.\u001b[0m\u001b[0mavg_speeds\u001b[0m\u001b[1;33m\u001b[0m\u001b[1;33m\u001b[0m\u001b[0m\n\u001b[0m",
      "\u001b[1;32mc:\\Program Files\\Python311\\Lib\\site-packages\\gtfs_functions\\gtfs_functions.py\u001b[0m in \u001b[0;36m?\u001b[1;34m(self)\u001b[0m\n\u001b[0;32m    210\u001b[0m     \u001b[1;33m@\u001b[0m\u001b[0mproperty\u001b[0m\u001b[1;33m\u001b[0m\u001b[1;33m\u001b[0m\u001b[0m\n\u001b[0;32m    211\u001b[0m     \u001b[1;32mdef\u001b[0m \u001b[0mavg_speeds\u001b[0m\u001b[1;33m(\u001b[0m\u001b[0mself\u001b[0m\u001b[1;33m)\u001b[0m\u001b[1;33m:\u001b[0m\u001b[1;33m\u001b[0m\u001b[1;33m\u001b[0m\u001b[0m\n\u001b[0;32m    212\u001b[0m         \u001b[1;32mif\u001b[0m \u001b[0mself\u001b[0m\u001b[1;33m.\u001b[0m\u001b[0m_avg_speeds\u001b[0m \u001b[1;32mis\u001b[0m \u001b[1;32mNone\u001b[0m\u001b[1;33m:\u001b[0m\u001b[1;33m\u001b[0m\u001b[1;33m\u001b[0m\u001b[0m\n\u001b[1;32m--> 213\u001b[1;33m             \u001b[0mself\u001b[0m\u001b[1;33m.\u001b[0m\u001b[0m_avg_speeds\u001b[0m \u001b[1;33m=\u001b[0m \u001b[0mself\u001b[0m\u001b[1;33m.\u001b[0m\u001b[0mget_avg_speeds\u001b[0m\u001b[1;33m(\u001b[0m\u001b[1;33m)\u001b[0m\u001b[1;33m\u001b[0m\u001b[1;33m\u001b[0m\u001b[0m\n\u001b[0m\u001b[0;32m    214\u001b[0m \u001b[1;33m\u001b[0m\u001b[0m\n\u001b[0;32m    215\u001b[0m         \u001b[1;32mreturn\u001b[0m \u001b[0mself\u001b[0m\u001b[1;33m.\u001b[0m\u001b[0m_avg_speeds\u001b[0m\u001b[1;33m\u001b[0m\u001b[1;33m\u001b[0m\u001b[0m\n",
      "\u001b[1;32mc:\\Program Files\\Python311\\Lib\\site-packages\\gtfs_functions\\gtfs_functions.py\u001b[0m in \u001b[0;36m?\u001b[1;34m(self)\u001b[0m\n\u001b[0;32m    640\u001b[0m         \u001b[1;31m# Aggregate by route, segment, and window\u001b[0m\u001b[1;33m\u001b[0m\u001b[1;33m\u001b[0m\u001b[0m\n\u001b[0;32m    641\u001b[0m         \u001b[0magg_speed\u001b[0m \u001b[1;33m=\u001b[0m \u001b[0maggregate_speed\u001b[0m\u001b[1;33m(\u001b[0m\u001b[0mspeeds\u001b[0m\u001b[1;33m,\u001b[0m \u001b[0msegment_gdf\u001b[0m\u001b[1;33m)\u001b[0m\u001b[1;33m\u001b[0m\u001b[1;33m\u001b[0m\u001b[0m\n\u001b[0;32m    642\u001b[0m \u001b[1;33m\u001b[0m\u001b[0m\n\u001b[0;32m    643\u001b[0m         \u001b[1;31m# Aggregate by segment and window (add ALL LINES level)\u001b[0m\u001b[1;33m\u001b[0m\u001b[1;33m\u001b[0m\u001b[0m\n\u001b[1;32m--> 644\u001b[1;33m         \u001b[0mall_lines\u001b[0m \u001b[1;33m=\u001b[0m \u001b[0madd_all_lines_speed\u001b[0m\u001b[1;33m(\u001b[0m\u001b[0magg_speed\u001b[0m\u001b[1;33m,\u001b[0m \u001b[0mspeeds\u001b[0m\u001b[1;33m,\u001b[0m \u001b[0msegment_gdf\u001b[0m\u001b[1;33m)\u001b[0m\u001b[1;33m\u001b[0m\u001b[1;33m\u001b[0m\u001b[0m\n\u001b[0m\u001b[0;32m    645\u001b[0m \u001b[1;33m\u001b[0m\u001b[0m\n\u001b[0;32m    646\u001b[0m         \u001b[1;31m# Add free flow speed\u001b[0m\u001b[1;33m\u001b[0m\u001b[1;33m\u001b[0m\u001b[0m\n\u001b[0;32m    647\u001b[0m         \u001b[0mdata\u001b[0m \u001b[1;33m=\u001b[0m \u001b[0madd_free_flow\u001b[0m\u001b[1;33m(\u001b[0m\u001b[0mspeeds\u001b[0m\u001b[1;33m,\u001b[0m \u001b[0mall_lines\u001b[0m\u001b[1;33m)\u001b[0m\u001b[1;33m\u001b[0m\u001b[1;33m\u001b[0m\u001b[0m\n",
      "\u001b[1;32mc:\\Program Files\\Python311\\Lib\\site-packages\\gtfs_functions\\aux_functions.py\u001b[0m in \u001b[0;36m?\u001b[1;34m(data, speeds, segments_gdf)\u001b[0m\n\u001b[0;32m    130\u001b[0m     \u001b[1;31m# Get data for all lines\u001b[0m\u001b[1;33m\u001b[0m\u001b[1;33m\u001b[0m\u001b[0m\n\u001b[0;32m    131\u001b[0m     \u001b[0mdata_all_lines\u001b[0m \u001b[1;33m=\u001b[0m \u001b[0mget_all_lines_speed\u001b[0m\u001b[1;33m(\u001b[0m\u001b[0mspeeds\u001b[0m\u001b[1;33m,\u001b[0m \u001b[0msegments_gdf\u001b[0m\u001b[1;33m)\u001b[0m\u001b[1;33m\u001b[0m\u001b[1;33m\u001b[0m\u001b[0m\n\u001b[0;32m    132\u001b[0m \u001b[1;33m\u001b[0m\u001b[0m\n\u001b[0;32m    133\u001b[0m     \u001b[1;31m# Add it to the data we already had\u001b[0m\u001b[1;33m\u001b[0m\u001b[1;33m\u001b[0m\u001b[0m\n\u001b[1;32m--> 134\u001b[1;33m     \u001b[0mdata_complete\u001b[0m \u001b[1;33m=\u001b[0m \u001b[0mdata\u001b[0m\u001b[1;33m.\u001b[0m\u001b[0mappend\u001b[0m\u001b[1;33m(\u001b[0m\u001b[0mdata_all_lines\u001b[0m\u001b[1;33m)\u001b[0m\u001b[1;33m\u001b[0m\u001b[1;33m\u001b[0m\u001b[0m\n\u001b[0m\u001b[0;32m    135\u001b[0m \u001b[1;33m\u001b[0m\u001b[0m\n\u001b[0;32m    136\u001b[0m     \u001b[1;31m# Clean data\u001b[0m\u001b[1;33m\u001b[0m\u001b[1;33m\u001b[0m\u001b[0m\n\u001b[0;32m    137\u001b[0m     data_complete = data_complete[\n",
      "\u001b[1;32mc:\\Program Files\\Python311\\Lib\\site-packages\\pandas\\core\\generic.py\u001b[0m in \u001b[0;36m?\u001b[1;34m(self, name)\u001b[0m\n\u001b[0;32m   5985\u001b[0m             \u001b[1;32mand\u001b[0m \u001b[0mname\u001b[0m \u001b[1;32mnot\u001b[0m \u001b[1;32min\u001b[0m \u001b[0mself\u001b[0m\u001b[1;33m.\u001b[0m\u001b[0m_accessors\u001b[0m\u001b[1;33m\u001b[0m\u001b[1;33m\u001b[0m\u001b[0m\n\u001b[0;32m   5986\u001b[0m             \u001b[1;32mand\u001b[0m \u001b[0mself\u001b[0m\u001b[1;33m.\u001b[0m\u001b[0m_info_axis\u001b[0m\u001b[1;33m.\u001b[0m\u001b[0m_can_hold_identifiers_and_holds_name\u001b[0m\u001b[1;33m(\u001b[0m\u001b[0mname\u001b[0m\u001b[1;33m)\u001b[0m\u001b[1;33m\u001b[0m\u001b[1;33m\u001b[0m\u001b[0m\n\u001b[0;32m   5987\u001b[0m         ):\n\u001b[0;32m   5988\u001b[0m             \u001b[1;32mreturn\u001b[0m \u001b[0mself\u001b[0m\u001b[1;33m[\u001b[0m\u001b[0mname\u001b[0m\u001b[1;33m]\u001b[0m\u001b[1;33m\u001b[0m\u001b[1;33m\u001b[0m\u001b[0m\n\u001b[1;32m-> 5989\u001b[1;33m         \u001b[1;32mreturn\u001b[0m \u001b[0mobject\u001b[0m\u001b[1;33m.\u001b[0m\u001b[0m__getattribute__\u001b[0m\u001b[1;33m(\u001b[0m\u001b[0mself\u001b[0m\u001b[1;33m,\u001b[0m \u001b[0mname\u001b[0m\u001b[1;33m)\u001b[0m\u001b[1;33m\u001b[0m\u001b[1;33m\u001b[0m\u001b[0m\n\u001b[0m",
      "\u001b[1;31mAttributeError\u001b[0m: 'DataFrame' object has no attribute 'append'"
     ]
    }
   ],
   "source": [
    "# Cutoffs to make get hourly values\n",
    "speeds = feed.avg_speeds\n"
   ]
  }
 ],
 "metadata": {
  "kernelspec": {
   "display_name": "Python 3",
   "language": "python",
   "name": "python3"
  },
  "language_info": {
   "codemirror_mode": {
    "name": "ipython",
    "version": 3
   },
   "file_extension": ".py",
   "mimetype": "text/x-python",
   "name": "python",
   "nbconvert_exporter": "python",
   "pygments_lexer": "ipython3",
   "version": "3.11.4"
  },
  "orig_nbformat": 4,
  "vscode": {
   "interpreter": {
    "hash": "5238573367df39f7286bb46f9ff5f08f63a01a80960060ce41e3c79b190280fa"
   }
  }
 },
 "nbformat": 4,
 "nbformat_minor": 2
}
